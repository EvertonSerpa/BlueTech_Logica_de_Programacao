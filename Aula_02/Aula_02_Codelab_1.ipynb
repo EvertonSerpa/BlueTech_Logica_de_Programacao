{
  "nbformat": 4,
  "nbformat_minor": 2,
  "metadata": {
    "colab": {
      "name": "Aula_02_Codelab.ipynb",
      "provenance": [],
      "collapsed_sections": []
    },
    "kernelspec": {
      "name": "python3",
      "display_name": "Python 3"
    },
    "language_info": {
      "name": "python"
    }
  },
  "cells": [
    {
      "cell_type": "markdown",
      "source": [
        "# **Exercícios para treinar:**"
      ],
      "metadata": {
        "id": "n_igYcmdk6U9"
      }
    },
    {
      "cell_type": "markdown",
      "source": [
        "1. **Frase na tela** - Implemente um programa que escreve na tela a frase \"O primeiro programa a gente nunca esquece!\".\r\n",
        "\r\n",
        "2. **Etiqueta** - Elabore um programa que escreve seu nome completo na primeira linha, seu endereço na segunda e o CEP e telefone na terceira.\r\n",
        "\r\n",
        "3. **Letra de música** - Faça um programa que mostre na tela uma letra de música que você gosta (proibido letras do Justin Bieber).\r\n",
        "\r\n",
        "4. **Tabela de notas** - Você foi contratado ou contratada por uma escola pra fazer o sistema de boletim dos alunos. Como primeiro passo, escreva um programa que produza a seguinte saída:\r\n",
        "```\r\n",
        "ALUNO (A)  NOTA\r\n",
        "=========  ====\r\n",
        "ALINE      9.0\r\n",
        "MÁRIO      DEZ\r\n",
        "SÉRGIO     4.5\r\n",
        "SHIRLEY    7.0\r\n",
        "```\r\n",
        "\r\n",
        "5. **Menu** - Elabore um programa que mostre o seguinte menu na tela:\r\n",
        "```\r\n",
        "Cadastro de Clientes\r\n",
        "0 - Fim\r\n",
        "1 - Inclui\r\n",
        "2 - Altera\r\n",
        "3 - Exclui\r\n",
        "4 - Consulta\r\n",
        "Digite uma opção: \r\n",
        "```\r\n",
        "Ao digitar um valor para a opção, o programa exibe qual opção foi escolhida.\r\n",
        "```\r\n",
        "Você escolheu a opção '0'.\r\n",
        "```\r\n",
        "\r\n",
        "6. **Calculadora de Dano** - Escreva um programa que receba dois valores digitados pelo usuário:\r\n",
        "  - Quantidade de vida de um monstro (entre 10 e 50);\r\n",
        "  - Valor do ataque do jogador por turno (entre 5 e 10);\r\n",
        "  - Baseado nos valores digitados, exiba a quantidade de turnos que o jogador irá demorar para conseguir derrotar o monstro.\r\n",
        "  - ```\r\n",
        "    O jogador irá derrotar o monstro em 8 turnos.\r\n",
        "    ```"
      ],
      "metadata": {
        "id": "rRyZR6ZAlEHU"
      }
    },
    {
      "cell_type": "markdown",
      "source": [
        "1. **Frase na tela** - Implemente um programa que escreve na tela a frase \"O primeiro programa a gente nunca esquece!\".\r\n",
        "\r\n",
        "2. **Etiqueta** - Elabore um programa que escreve seu nome completo na primeira linha, seu endereço na segunda e o CEP e telefone na terceira.\r\n",
        "\r\n",
        "3. **Letra de música** - Faça um programa que mostre na tela uma letra de música que você gosta (proibido letras do Justin Bieber).\r\n",
        "\r\n",
        "4. **Tabela de notas** - Você foi contratado ou contratada por uma escola pra fazer o sistema de boletim dos alunos. Como primeiro passo, escreva um programa que produza a seguinte saída:\r\n",
        "```\r\n",
        "ALUNO (A)  NOTA\r\n",
        "=========  ====\r\n",
        "ALINE      9.0\r\n",
        "MÁRIO      DEZ\r\n",
        "SÉRGIO     4.5\r\n",
        "SHIRLEY    7.0\r\n",
        "```\r\n",
        "\r\n",
        "5. **Menu** - Elabore um programa que mostre o seguinte menu na tela:\r\n",
        "```\r\n",
        "Cadastro de Clientes\r\n",
        "0 - Fim\r\n",
        "1 - Inclui\r\n",
        "2 - Altera\r\n",
        "3 - Exclui\r\n",
        "4 - Consulta\r\n",
        "Digite uma opção: \r\n",
        "```\r\n",
        "Ao digitar um valor para a opção, o programa exibe qual opção foi escolhida.\r\n",
        "```\r\n",
        "Você escolheu a opção '0'.\r\n",
        "```\r\n",
        "\r\n",
        "6. **Calculadora de Dano** - Escreva um programa que receba dois valores digitados pelo usuário:\r\n",
        "  - Quantidade de vida de um monstro (entre 10 e 50);\r\n",
        "  - Valor do ataque do jogador por turno (entre 5 e 10);\r\n",
        "  - Baseado nos valores digitados, exiba a quantidade de turnos que o jogador irá demorar para conseguir derrotar o monstro.\r\n",
        "  - ```\r\n",
        "    O jogador irá derrotar o monstro em 8 turnos.\r\n",
        "    ```"
      ],
      "metadata": {
        "id": "rRyZR6ZAlEHU"
      }
    },
    {
      "cell_type": "markdown",
      "source": [
        "# Exercícios"
      ],
      "metadata": {
        "id": "HqgnPaCGqMPB"
      }
    },
    {
      "cell_type": "markdown",
      "source": [
        "## #01 - E os 10% do garçom?**\n",
        "\n",
        "- Defina uma variável para o valor de uma refeição que custou R$ 42,54;\n",
        "\n",
        "- Defina uma variável para o valor da taxa de serviço que é de 10%;\n",
        "\n",
        "- Defina uma variável que calcula o valor total da conta e exiba-o no console com essa formatação: R$ XXXX.XX."
      ],
      "metadata": {
        "id": "U-ltrv0jqPBq"
      }
    },
    {
      "cell_type": "code",
      "execution_count": null,
      "source": [],
      "outputs": [],
      "metadata": {
        "id": "jbcSv4NFkB1C"
      }
    },
    {
      "cell_type": "markdown",
      "source": [
        "## #02 - Qual o valor do troco?\n",
        "\n",
        "*   Defina uma variável para o valor de uma compra que custou R$100,98;\n",
        "\n",
        "*   Defina uma variável para o valor que o cliente pagou R$150,00;\n",
        "\n",
        "*   Defina uma variável que calcula o valor do troco e exiba-o no console com o valor final arredondado."
      ],
      "metadata": {
        "id": "JR3-KgsTqR41"
      }
    },
    {
      "cell_type": "code",
      "execution_count": null,
      "source": [],
      "outputs": [],
      "metadata": {
        "id": "hBf3kE_pksAI"
      }
    },
    {
      "cell_type": "markdown",
      "source": [
        "## #03 - Você está na flor da idade?\n",
        "\n",
        "*  Defina uma variável para o valor do ano do nascimento;\n",
        "*  Defina uma variável para o valor do ano atual;\n",
        "*  Defina uma variável que calcula o valor final da idade da pessoa;\n",
        "*  Exiba uma mensagem final dizendo a idade da pessoa e a mensagem \"Você está na flor da idade\"."
      ],
      "metadata": {
        "id": "2Uu84Uqtkunt"
      }
    },
    {
      "cell_type": "code",
      "execution_count": null,
      "source": [],
      "outputs": [],
      "metadata": {
        "id": "kyXxJV3nk14Z"
      }
    },
    {
      "cell_type": "markdown",
      "source": [
        "# Mini projetos"
      ],
      "metadata": {
        "id": "w1T7s2q0p-pt"
      }
    },
    {
      "cell_type": "markdown",
      "source": [
        "## #01 - Conversor de moedas\n",
        "\n",
        "Crie um programa que solicite um um valor em real ao usuário e converta esse valor, para:\n",
        "\n",
        "- DOLAR,\n",
        "- EURO,\n",
        "- LIBRA ESTERLINA,\n",
        "- DÓLAR CANADENSE,\n",
        "- PESO ARGENTINO,\n",
        "- PESO CHILENO.\n",
        "\n",
        "Para esse exercício você precisará realizar uma pesquisa para saber a cotação de cada moeda em real. Mostrar o resultado no formato $ XXXX.XX"
      ],
      "metadata": {
        "id": "meUw7PTwqC-Y"
      }
    },
    {
      "cell_type": "code",
      "execution_count": null,
      "source": [],
      "outputs": [],
      "metadata": {
        "id": "q481snSClrXe"
      }
    },
    {
      "cell_type": "markdown",
      "source": [
        "## #02 - Calculadora de aumento de aluguel\n",
        "\n",
        "Vamos construir um programa que irá calcular o aumento anual do seu aluguel em duas partes:\n",
        "\n",
        "### Parte 1\n",
        "A sua calculadora vai receber o `valor do aluguel` e calcular o aumento baseado no `IGPM de 31%`. A calculadora deve apresentar o aluguel reajustado no formato `R$ XXXX.XX`\n",
        "\n",
        "**Exemplo:**\n",
        "```\n",
        "Valor do aluguel = 1000\n",
        "Valor do aluguel reajustado = R$ 1310,00"
      ],
      "metadata": {
        "id": "KK9PIcJ4qIF9"
      }
    },
    {
      "cell_type": "code",
      "execution_count": null,
      "source": [],
      "outputs": [],
      "metadata": {
        "id": "VdjHa9Csl0Lg"
      }
    },
    {
      "cell_type": "markdown",
      "source": [
        "### Parte 2\n",
        "Agora, altere sua calculadora para receber além do `valor do aluguel`, o percentual do reajuste no formato `XX%`.  \n",
        "\n",
        "**Dica:** Descubra uma forma de transformar o percentual recebido em um número para efetuar o cálculo.\n",
        "\n",
        "**Exemplo:**\n",
        "```\n",
        "Valor do aluguel = 1000\n",
        "Percentual do reajuste = 31%\n",
        "Valor do aluguel reajustado = R% 1310,00\n",
        "```"
      ],
      "metadata": {
        "id": "lKTwnuNMl8rP"
      }
    },
    {
      "cell_type": "code",
      "execution_count": null,
      "source": [],
      "outputs": [],
      "metadata": {
        "id": "aw2Zk_9KmA85"
      }
    }
  ]
}