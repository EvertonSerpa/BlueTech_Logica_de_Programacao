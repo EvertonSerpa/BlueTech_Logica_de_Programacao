{
  "nbformat": 4,
  "nbformat_minor": 2,
  "metadata": {
    "colab": {
      "name": "Exercicios-String.ipynb",
      "provenance": []
    },
    "kernelspec": {
      "name": "python3",
      "display_name": "Python 3"
    },
    "language_info": {
      "name": "python"
    }
  },
  "cells": [
    {
      "cell_type": "markdown",
      "source": [
        "01 - Considere a string A = \"Os limites só existem se você os deixar existir.(goku)\".\r\n",
        "\r\n",
        "Que fatia corresponde a (goku)?"
      ],
      "metadata": {
        "id": "wbV2YraddQOF"
      }
    },
    {
      "cell_type": "markdown",
      "source": [
        "02 - Escreva um programa que solicite uma frase ao usuário e escreva a frase toda em maiúscula e sem espaços em branco."
      ],
      "metadata": {
        "id": "2hA2Tw6sdR95"
      }
    },
    {
      "cell_type": "markdown",
      "source": [
        "03 - Elabore um programa que recebe o seu nome, endereço e hobby e mostra cada uma das informações da seguinte forma:\r\n",
        "- Nome -> Letra maiúscula\r\n",
        "- Endereço -> Letra minúscula\r\n",
        "- Hobby -> Primeira letra maiúscula\r\n",
        "\r\n",
        "**Exemplo Entrada:**\r\n",
        "```\r\n",
        "Nome: bruno fabri\r\n",
        "Endereço: Rua ABC\r\n",
        "Hobby: jogar cs\r\n",
        "```\r\n",
        "\r\n",
        "**Exemplo Saída:**\r\n",
        "```\r\n",
        "Nome: BRUNO FABRI\r\n",
        "Endereço: rua abc\r\n",
        "Hobby: Jogar cs\r\n",
        "```"
      ],
      "metadata": {
        "id": "EntkYdeSdT_j"
      }
    }
  ]
}